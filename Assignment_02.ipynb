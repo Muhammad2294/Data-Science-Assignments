{
  "cells": [
    {
      "cell_type": "code",
      "execution_count": null,
      "metadata": {
        "id": "LBIsb2p2XnkQ"
      },
      "outputs": [],
      "source": [
        "# 28th March 2024\n",
        "# CSC461 – Assignment2 – IDS – DataVisualization\n",
        "# Mohammad Ahmed Shahbaz\n",
        "# CIIT/LHR/FA21-BSE-050\n",
        "# Plot graphs using sample dataset\n"
      ]
    },
    {
      "cell_type": "code",
      "execution_count": null,
      "metadata": {
        "id": "IiSUnlkOYeYY"
      },
      "outputs": [],
      "source": [
        "import pandas as pd\n",
        "import matplotlib.pyplot as plt"
      ]
    },
    {
      "cell_type": "code",
      "execution_count": null,
      "metadata": {},
      "outputs": [],
      "source": [
        "# Question 1\n",
        "\n",
        "df = pd.read_csv('/world_pop.csv')\n",
        "\n",
        "df_2020 = df[['country', 'year_2020']].dropna()\n",
        "top_10_countries_2020 = df_2020.sort_values(by='year_2020', ascending=False).head(10)['country']\n",
        "\n",
        "top_10_countries_data = df[df['country'].isin(top_10_countries_2020)]\n",
        "\n",
        "population_data = top_10_countries_data.set_index('country').loc[:, 'year_1960':'year_2020'].transpose()\n",
        "\n",
        "fig, ax = plt.subplots(figsize=(12, 8))\n",
        "\n",
        "for country in population_data.columns:\n",
        "    ax.plot(population_data.index, population_data[country], label=country)\n",
        "\n",
        "plt.title('Population Growth of Top 10 Countries (1960-2020)')\n",
        "plt.xlabel('Year')\n",
        "plt.ylabel('Population')\n",
        "plt.legend(loc='upper left')\n",
        "plt.grid(True)\n",
        "plt.tight_layout()\n",
        "plt.show()\n"
      ]
    },
    {
      "cell_type": "code",
      "execution_count": null,
      "metadata": {},
      "outputs": [],
      "source": [
        "# Question 2\n",
        "\n",
        "df = pd.read_csv('world_population.csv')\n",
        "\n",
        "least_populous_2015 = df[['country', 'year_2015']].sort_values(by='year_2015').head(10)\n",
        "plt.figure(figsize=(10, 6))\n",
        "plt.barh(least_populous_2015['country'], least_populous_2015['year_2015'], color='skyblue')\n",
        "plt.title('Population of 10 Least Populous Countries in 2015')\n",
        "plt.xlabel('Population')\n",
        "plt.ylabel('Country')\n",
        "plt.gca().invert_yaxis()\n",
        "plt.show()\n",
        "\n",
        "selected_countries = ['Pakistan', 'India', 'United States', 'United Kingdom']\n",
        "pop_change_1970_2010 = df[df['country'].isin(selected_countries)][['country', 'year_1970', 'year_2010']]\n",
        "pop_change_1970_2010['population_change'] = pop_change_1970_2010['year_2010'] - pop_change_1970_2010['year_1970']\n",
        "plt.figure(figsize=(10, 6))\n",
        "plt.bar(pop_change_1970_2010['country'], pop_change_1970_2010['population_change'] / 1e6, color='lightgreen')\n",
        "plt.title('Population Change (1970-2010) of Selected Countries')\n",
        "plt.xlabel('Country')\n",
        "plt.ylabel('Population Change (millions)')\n",
        "plt.show()\n",
        "\n",
        "pakistan_pop_growth = df[df['country'] == 'Pakistan'][['year_2010', 'year_2020']]\n",
        "pakistan_pop_growth['population_growth'] = pakistan_pop_growth['year_2020'] - pakistan_pop_growth['year_2010']\n",
        "plt.figure(figsize=(8, 5))\n",
        "plt.plot(pakistan_pop_growth['year_2010'], pakistan_pop_growth['population_growth'] / 1e6, marker='o', color='orange')\n",
        "plt.title('Pakistan Population Growth (2010-2020)')\n",
        "plt.xlabel('Year')\n",
        "plt.ylabel('Population Growth (millions)')\n",
        "plt.grid(True)\n",
        "plt.show()\n"
      ]
    },
    {
      "cell_type": "code",
      "execution_count": null,
      "metadata": {},
      "outputs": [],
      "source": [
        "# Question 3\n",
        "\n",
        "df = pd.read_csv('diamonds.csv')\n",
        "\n",
        "filtered_df = df[(df['clarity'] == 'SI2') & (df['color'] == 'E')]\n",
        "\n",
        "plt.figure(figsize=(10, 6))\n",
        "plt.scatter(filtered_df['carat'], filtered_df['price'], c=filtered_df['cut'].astype('category').cat.codes, cmap='viridis')\n",
        "\n",
        "plt.title('Relationship between Carat and Price of Diamonds (SI2 Clarity, Color E)', fontsize=16)\n",
        "plt.xlabel('Carat', fontsize=14)\n",
        "plt.ylabel('Price', fontsize=14)\n",
        "\n",
        "legend_labels = filtered_df['cut'].unique()\n",
        "plt.legend(legend_labels, title='Cut', fontsize=12)\n",
        "\n",
        "plt.grid(True)\n",
        "\n",
        "plt.colorbar(label='Cut')\n",
        "plt.show()\n"
      ]
    }
  ],
  "metadata": {
    "colab": {
      "provenance": []
    },
    "kernelspec": {
      "display_name": "Python 3",
      "name": "python3"
    },
    "language_info": {
      "name": "python"
    }
  },
  "nbformat": 4,
  "nbformat_minor": 0
}
